{
  "nbformat": 4,
  "nbformat_minor": 0,
  "metadata": {
    "colab": {
      "name": "Ridge and Lasso Regression.ipynb",
      "provenance": [],
      "authorship_tag": "ABX9TyM2R7lEUx4e8Rk1Us9dF5jS",
      "include_colab_link": true
    },
    "kernelspec": {
      "name": "python3",
      "display_name": "Python 3"
    },
    "language_info": {
      "name": "python"
    }
  },
  "cells": [
    {
      "cell_type": "markdown",
      "metadata": {
        "id": "view-in-github",
        "colab_type": "text"
      },
      "source": [
        "<a href=\"https://colab.research.google.com/github/sagargahalod/Misc/blob/master/Ridge_and_Lasso_Regression.ipynb\" target=\"_parent\"><img src=\"https://colab.research.google.com/assets/colab-badge.svg\" alt=\"Open In Colab\"/></a>"
      ]
    },
    {
      "cell_type": "markdown",
      "metadata": {
        "id": "rXXsb5dXE-ZO"
      },
      "source": [
        "Overview\n",
        "\n",
        "    Ridge and Lasso Regression are types of Regularization techniques\n",
        "    Regularization techniques are used to deal with overfitting and when the dataset is large\n",
        "    Ridge and Lasso Regression involve adding penalties to the regression function\n"
      ]
    },
    {
      "cell_type": "code",
      "metadata": {
        "id": "GUOG9X62D4CX"
      },
      "source": [
        "import pandas as pd\n",
        "import numpy as np\n",
        "import seaborn as sns\n",
        "import matplotlib.pyplot as plt\n"
      ],
      "execution_count": 2,
      "outputs": []
    },
    {
      "cell_type": "code",
      "metadata": {
        "id": "eTi3sh9vD9Qc"
      },
      "source": [
        "from sklearn.linear_model import ridge_regression,LinearRegression,Ridge,RidgeCV,LassoCV,Lasso\n",
        "from sklearn.metrics import confusion_matrix,accuracy_score,classification_report\n",
        "from sklearn.model_selection import train_test_split,cross_val_score\n",
        "from sklearn.datasets import load_diabetes"
      ],
      "execution_count": 18,
      "outputs": []
    },
    {
      "cell_type": "code",
      "metadata": {
        "id": "4n_fM9YuEiuS"
      },
      "source": [
        "data = load_diabetes()\n",
        "X = data.data\n",
        "y = data.target\n"
      ],
      "execution_count": 12,
      "outputs": []
    },
    {
      "cell_type": "code",
      "metadata": {
        "colab": {
          "base_uri": "https://localhost:8080/"
        },
        "id": "3yTBKesGMvUd",
        "outputId": "357aeaae-106b-440a-e145-cdfc902507a1"
      },
      "source": [
        "X.shape,y.shape"
      ],
      "execution_count": 15,
      "outputs": [
        {
          "output_type": "execute_result",
          "data": {
            "text/plain": [
              "((442, 10), (442,))"
            ]
          },
          "metadata": {
            "tags": []
          },
          "execution_count": 15
        }
      ]
    },
    {
      "cell_type": "code",
      "metadata": {
        "colab": {
          "base_uri": "https://localhost:8080/"
        },
        "id": "-yGs_gRgTogT",
        "outputId": "b3ba851d-a409-4cc5-bde6-eecf3c225791"
      },
      "source": [
        "for mod in [Ridge,Lasso]:\n",
        "  model = mod()\n",
        "  print('%s %s'%(mod.__name__,cross_val_score(model,X,y).mean()))"
      ],
      "execution_count": 20,
      "outputs": [
        {
          "output_type": "stream",
          "text": [
            "Ridge 0.41017583365872845\n",
            "Lasso 0.3375597834274946\n"
          ],
          "name": "stdout"
        }
      ]
    },
    {
      "cell_type": "code",
      "metadata": {
        "colab": {
          "base_uri": "https://localhost:8080/",
          "height": 225
        },
        "id": "wavlYYNTUZCP",
        "outputId": "56b8beb8-f13b-47d9-b6ee-be2a778f4dfd"
      },
      "source": [
        "alphas = np.logspace(-3, -1, 30)\n",
        "\n",
        "plt.figure(figsize=(5, 3))\n",
        "\n",
        "for Model in [Lasso, Ridge]:\n",
        "    scores = [cross_val_score(Model(alpha), X, y, cv=3).mean()\n",
        "            for alpha in alphas]\n",
        "    plt.plot(alphas, scores, label=Model.__name__)\n",
        "\n",
        "plt.legend(loc='lower left')\n",
        "plt.xlabel('alpha')\n",
        "plt.ylabel('cross validation score')\n",
        "plt.tight_layout()\n",
        "plt.show()\n",
        "\n",
        "  "
      ],
      "execution_count": 25,
      "outputs": [
        {
          "output_type": "display_data",
          "data": {
            "image/png": "[encoded data removed]",
            "text/plain": [
              "<Figure size 360x216 with 1 Axes>"
            ]
          },
          "metadata": {
            "tags": [],
            "needs_background": "light"
          }
        }
      ]
    },
    {
      "cell_type": "code",
      "metadata": {
        "id": "z-1VYlt0Ys6G"
      },
      "source": [
        ""
      ],
      "execution_count": null,
      "outputs": []
    }
  ]
}