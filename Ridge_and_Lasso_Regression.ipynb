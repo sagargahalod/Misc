{
  "nbformat": 4,
  "nbformat_minor": 0,
  "metadata": {
    "colab": {
      "name": "Ridge and Lasso Regression.ipynb",
      "provenance": [],
      "authorship_tag": "ABX9TyMyYx7wp+sdgRaQXBh2GAhB",
      "include_colab_link": true
    },
    "kernelspec": {
      "name": "python3",
      "display_name": "Python 3"
    },
    "language_info": {
      "name": "python"
    }
  },
  "cells": [
    {
      "cell_type": "markdown",
      "metadata": {
        "id": "view-in-github",
        "colab_type": "text"
      },
      "source": [
        "<a href=\"https://colab.research.google.com/github/sagargahalod/Misc/blob/master/Ridge_and_Lasso_Regression.ipynb\" target=\"_parent\"><img src=\"https://colab.research.google.com/assets/colab-badge.svg\" alt=\"Open In Colab\"/></a>"
      ]
    },
    {
      "cell_type": "markdown",
      "metadata": {
        "id": "rXXsb5dXE-ZO"
      },
      "source": [
        "Overview\n",
        "\n",
        "    Ridge and Lasso Regression are types of Regularization techniques\n",
        "    Regularization techniques are used to deal with overfitting and when the dataset is large\n",
        "    Ridge and Lasso Regression involve adding penalties to the regression function\n"
      ]
    },
    {
      "cell_type": "code",
      "metadata": {
        "id": "GUOG9X62D4CX"
      },
      "source": [
        "import pandas as pd\n",
        "import numpy as np\n",
        "import seaborn as sns\n",
        "import matplotlib.pyplot as plt\n"
      ],
      "execution_count": 2,
      "outputs": []
    },
    {
      "cell_type": "code",
      "metadata": {
        "id": "eTi3sh9vD9Qc"
      },
      "source": [
        "from sklearn.linear_model import ridge_regression,LinearRegression,Ridge,RidgeCV,LassoCV,Lasso\n",
        "from sklearn.metrics import confusion_matrix,accuracy_score,classification_report\n",
        "from sklearn.model_selection import train_test_split,cross_val_score\n",
        "from sklearn.datasets import load_diabetes"
      ],
      "execution_count": 18,
      "outputs": []
    },
    {
      "cell_type": "code",
      "metadata": {
        "id": "4n_fM9YuEiuS"
      },
      "source": [
        "data = load_diabetes()\n",
        "X = data.data\n",
        "y = data.target\n"
      ],
      "execution_count": 12,
      "outputs": []
    },
    {
      "cell_type": "code",
      "metadata": {
        "colab": {
          "base_uri": "https://localhost:8080/"
        },
        "id": "3yTBKesGMvUd",
        "outputId": "357aeaae-106b-440a-e145-cdfc902507a1"
      },
      "source": [
        "X.shape,y.shape"
      ],
      "execution_count": 15,
      "outputs": [
        {
          "output_type": "execute_result",
          "data": {
            "text/plain": [
              "((442, 10), (442,))"
            ]
          },
          "metadata": {
            "tags": []
          },
          "execution_count": 15
        }
      ]
    },
    {
      "cell_type": "code",
      "metadata": {
        "colab": {
          "base_uri": "https://localhost:8080/"
        },
        "id": "-yGs_gRgTogT",
        "outputId": "b3ba851d-a409-4cc5-bde6-eecf3c225791"
      },
      "source": [
        "for mod in [Ridge,Lasso]:\n",
        "  model = mod()\n",
        "  print('%s %s'%(mod.__name__,cross_val_score(model,X,y).mean()))"
      ],
      "execution_count": 20,
      "outputs": [
        {
          "output_type": "stream",
          "text": [
            "Ridge 0.41017583365872845\n",
            "Lasso 0.3375597834274946\n"
          ],
          "name": "stdout"
        }
      ]
    },
    {
      "cell_type": "code",
      "metadata": {
        "colab": {
          "base_uri": "https://localhost:8080/",
          "height": 225
        },
        "id": "wavlYYNTUZCP",
        "outputId": "56b8beb8-f13b-47d9-b6ee-be2a778f4dfd"
      },
      "source": [
        "alphas = np.logspace(-3, -1, 30)\n",
        "\n",
        "plt.figure(figsize=(5, 3))\n",
        "\n",
        "for Model in [Lasso, Ridge]:\n",
        "    scores = [cross_val_score(Model(alpha), X, y, cv=3).mean()\n",
        "            for alpha in alphas]\n",
        "    plt.plot(alphas, scores, label=Model.__name__)\n",
        "\n",
        "plt.legend(loc='lower left')\n",
        "plt.xlabel('alpha')\n",
        "plt.ylabel('cross validation score')\n",
        "plt.tight_layout()\n",
        "plt.show()\n",
        "\n",
        "  "
      ],
      "execution_count": 25,
      "outputs": [
        {
          "output_type": "display_data",
          "data": {
            "image/png": "[encoded data removed]",
            "text/plain": [
              "<Figure size 360x216 with 1 Axes>"
            ]
          },
          "metadata": {
            "tags": [],
            "needs_background": "light"
          }
        }
      ]
    },
    {
      "cell_type": "code",
      "metadata": {
        "colab": {
          "base_uri": "https://localhost:8080/",
          "height": 283
        },
        "id": "z-1VYlt0Ys6G",
        "outputId": "5b7a3e45-4774-476d-9fed-3e898af3122b"
      },
      "source": [
        "#Define input array with angles from 60deg to 300deg converted to radians\n",
        "x = np.array([i*np.pi/180 for i in range(60,300,4)])\n",
        "np.random.seed(10)  #Setting seed for reproducibility\n",
        "y = np.sin(x) + np.random.normal(0,0.15,len(x))\n",
        "data = pd.DataFrame(np.column_stack([x,y]),columns=['x','y'])\n",
        "plt.plot(data['x'],data['y'],'.')"
      ],
      "execution_count": 26,
      "outputs": [
        {
          "output_type": "execute_result",
          "data": {
            "text/plain": [
              "[<matplotlib.lines.Line2D at 0x7f94b126c090>]"
            ]
          },
          "metadata": {
            "tags": []
          },
          "execution_count": 26
        },
        {
          "output_type": "display_data",
          "data": {
            "image/png": "[encoded data removed]",
            "text/plain": [
              "<Figure size 432x288 with 1 Axes>"
            ]
          },
          "metadata": {
            "tags": [],
            "needs_background": "light"
          }
        }
      ]
    },
    {
      "cell_type": "code",
      "metadata": {
        "colab": {
          "base_uri": "https://localhost:8080/"
        },
        "id": "0CPGCxYtdBFP",
        "outputId": "64e3a6a1-9d8a-4436-c090-7e350e315847"
      },
      "source": [
        "for i in range(2,16):  #power of 1 is already there\n",
        "    colname = 'x_%d'%i      #new var will be x_power\n",
        "    data[colname] = data['x']**i\n",
        "print(data.head())"
      ],
      "execution_count": 27,
      "outputs": [
        {
          "output_type": "stream",
          "text": [
            "          x         y       x_2  ...       x_13       x_14       x_15\n",
            "0  1.047198  1.065763  1.096623  ...   1.821260   1.907219   1.997235\n",
            "1  1.117011  1.006086  1.247713  ...   4.214494   4.707635   5.258479\n",
            "2  1.186824  0.695374  1.408551  ...   9.268760  11.000386  13.055521\n",
            "3  1.256637  0.949799  1.579137  ...  19.486248  24.487142  30.771450\n",
            "4  1.326450  1.063496  1.759470  ...  39.353420  52.200353  69.241170\n",
            "\n",
            "[5 rows x 16 columns]\n"
          ],
          "name": "stdout"
        }
      ]
    },
    {
      "cell_type": "code",
      "metadata": {
        "id": "cBqfCcwgdFgW"
      },
      "source": [
        "def linear_regression(data, power, models_to_plot):\n",
        "    #initialize predictors:\n",
        "    predictors=['x']\n",
        "    if power>=2:\n",
        "        predictors.extend(['x_%d'%i for i in range(2,power+1)])\n",
        "    \n",
        "    #Fit the model\n",
        "    linreg = LinearRegression(normalize=True)\n",
        "    linreg.fit(data[predictors],data['y'])\n",
        "    y_pred = linreg.predict(data[predictors])\n",
        "    \n",
        "    #Check if a plot is to be made for the entered power\n",
        "    if power in models_to_plot:\n",
        "        plt.subplot(models_to_plot[power])\n",
        "        plt.tight_layout()\n",
        "        plt.plot(data['x'],y_pred)\n",
        "        plt.plot(data['x'],data['y'],'.')\n",
        "        plt.title('Plot for power: %d'%power)\n",
        "    \n",
        "    #Return the result in pre-defined format\n",
        "    rss = sum((y_pred-data['y'])**2)\n",
        "    ret = [rss]\n",
        "    ret.extend([linreg.intercept_])\n",
        "    ret.extend(linreg.coef_)\n",
        "    return ret"
      ],
      "execution_count": 28,
      "outputs": []
    },
    {
      "cell_type": "code",
      "metadata": {
        "colab": {
          "base_uri": "https://localhost:8080/",
          "height": 729
        },
        "id": "VpgoFWcldK--",
        "outputId": "e88860e7-bd9f-423d-cb96-ecd0d1c19258"
      },
      "source": [
        "from matplotlib.pylab import rcParams\n",
        "rcParams['figure.figsize'] = 12, 10\n",
        "\n",
        "\n",
        "col = ['rss','intercept'] + ['coef_x_%d'%i for i in range(1,16)]\n",
        "ind = ['model_pow_%d'%i for i in range(1,16)]\n",
        "coef_matrix_simple = pd.DataFrame(index=ind, columns=col)\n",
        "\n",
        "#Define the powers for which a plot is required:\n",
        "models_to_plot = {1:231,3:232,6:233,9:234,12:235,15:236}\n",
        "\n",
        "#Iterate through all powers and assimilate results\n",
        "for i in range(1,16):\n",
        "    coef_matrix_simple.iloc[i-1,0:i+2] = linear_regression(data, power=i, models_to_plot=models_to_plot)"
      ],
      "execution_count": 31,
      "outputs": [
        {
          "output_type": "display_data",
          "data": {
            "image/png": "[encoded data removed]",
            "text/plain": [
              "<Figure size 864x720 with 6 Axes>"
            ]
          },
          "metadata": {
            "tags": [],
            "needs_background": "light"
          }
        }
      ]
    },
    {
      "cell_type": "code",
      "metadata": {
        "colab": {
          "base_uri": "https://localhost:8080/",
          "height": 487
        },
        "id": "wLSl33CwdPCN",
        "outputId": "94e8b07d-edf7-4ac9-ace4-8d257105f0ca"
      },
      "source": [
        "#Set the display format to be scientific for ease of analysis\n",
        "pd.options.display.float_format = '{:,.2g}'.format\n",
        "coef_matrix_simple"
      ],
      "execution_count": 32,
      "outputs": [
        {
          "output_type": "execute_result",
          "data": {
            "text/html": [
              "<div>\n",
              "<style scoped>\n",
              "    .dataframe tbody tr th:only-of-type {\n",
              "        vertical-align: middle;\n",
              "    }\n",
              "\n",
              "    .dataframe tbody tr th {\n",
              "        vertical-align: top;\n",
              "    }\n",
              "\n",
              "    .dataframe thead th {\n",
              "        text-align: right;\n",
              "    }\n",
              "</style>\n",
              "<table border=\"1\" class=\"dataframe\">\n",
              "  <thead>\n",
              "    <tr style=\"text-align: right;\">\n",
              "      <th></th>\n",
              "      <th>rss</th>\n",
              "      <th>intercept</th>\n",
              "      <th>coef_x_1</th>\n",
              "      <th>coef_x_2</th>\n",
              "      <th>coef_x_3</th>\n",
              "      <th>coef_x_4</th>\n",
              "      <th>coef_x_5</th>\n",
              "      <th>coef_x_6</th>\n",
              "      <th>coef_x_7</th>\n",
              "      <th>coef_x_8</th>\n",
              "      <th>coef_x_9</th>\n",
              "      <th>coef_x_10</th>\n",
              "      <th>coef_x_11</th>\n",
              "      <th>coef_x_12</th>\n",
              "      <th>coef_x_13</th>\n",
              "      <th>coef_x_14</th>\n",
              "      <th>coef_x_15</th>\n",
              "    </tr>\n",
              "  </thead>\n",
              "  <tbody>\n",
              "    <tr>\n",
              "      <th>model_pow_1</th>\n",
              "      <td>3.3</td>\n",
              "      <td>2</td>\n",
              "      <td>-0.62</td>\n",
              "      <td>NaN</td>\n",
              "      <td>NaN</td>\n",
              "      <td>NaN</td>\n",
              "      <td>NaN</td>\n",
              "      <td>NaN</td>\n",
              "      <td>NaN</td>\n",
              "      <td>NaN</td>\n",
              "      <td>NaN</td>\n",
              "      <td>NaN</td>\n",
              "      <td>NaN</td>\n",
              "      <td>NaN</td>\n",
              "      <td>NaN</td>\n",
              "      <td>NaN</td>\n",
              "      <td>NaN</td>\n",
              "    </tr>\n",
              "    <tr>\n",
              "      <th>model_pow_2</th>\n",
              "      <td>3.3</td>\n",
              "      <td>1.9</td>\n",
              "      <td>-0.58</td>\n",
              "      <td>-0.006</td>\n",
              "      <td>NaN</td>\n",
              "      <td>NaN</td>\n",
              "      <td>NaN</td>\n",
              "      <td>NaN</td>\n",
              "      <td>NaN</td>\n",
              "      <td>NaN</td>\n",
              "      <td>NaN</td>\n",
              "      <td>NaN</td>\n",
              "      <td>NaN</td>\n",
              "      <td>NaN</td>\n",
              "      <td>NaN</td>\n",
              "      <td>NaN</td>\n",
              "      <td>NaN</td>\n",
              "    </tr>\n",
              "    <tr>\n",
              "      <th>model_pow_3</th>\n",
              "      <td>1.1</td>\n",
              "      <td>-1.1</td>\n",
              "      <td>3</td>\n",
              "      <td>-1.3</td>\n",
              "      <td>0.14</td>\n",
              "      <td>NaN</td>\n",
              "      <td>NaN</td>\n",
              "      <td>NaN</td>\n",
              "      <td>NaN</td>\n",
              "      <td>NaN</td>\n",
              "      <td>NaN</td>\n",
              "      <td>NaN</td>\n",
              "      <td>NaN</td>\n",
              "      <td>NaN</td>\n",
              "      <td>NaN</td>\n",
              "      <td>NaN</td>\n",
              "      <td>NaN</td>\n",
              "    </tr>\n",
              "    <tr>\n",
              "      <th>model_pow_4</th>\n",
              "      <td>1.1</td>\n",
              "      <td>-0.27</td>\n",
              "      <td>1.7</td>\n",
              "      <td>-0.53</td>\n",
              "      <td>-0.036</td>\n",
              "      <td>0.014</td>\n",
              "      <td>NaN</td>\n",
              "      <td>NaN</td>\n",
              "      <td>NaN</td>\n",
              "      <td>NaN</td>\n",
              "      <td>NaN</td>\n",
              "      <td>NaN</td>\n",
              "      <td>NaN</td>\n",
              "      <td>NaN</td>\n",
              "      <td>NaN</td>\n",
              "      <td>NaN</td>\n",
              "      <td>NaN</td>\n",
              "    </tr>\n",
              "    <tr>\n",
              "      <th>model_pow_5</th>\n",
              "      <td>1</td>\n",
              "      <td>3</td>\n",
              "      <td>-5.1</td>\n",
              "      <td>4.7</td>\n",
              "      <td>-1.9</td>\n",
              "      <td>0.33</td>\n",
              "      <td>-0.021</td>\n",
              "      <td>NaN</td>\n",
              "      <td>NaN</td>\n",
              "      <td>NaN</td>\n",
              "      <td>NaN</td>\n",
              "      <td>NaN</td>\n",
              "      <td>NaN</td>\n",
              "      <td>NaN</td>\n",
              "      <td>NaN</td>\n",
              "      <td>NaN</td>\n",
              "      <td>NaN</td>\n",
              "    </tr>\n",
              "    <tr>\n",
              "      <th>model_pow_6</th>\n",
              "      <td>0.99</td>\n",
              "      <td>-2.8</td>\n",
              "      <td>9.5</td>\n",
              "      <td>-9.7</td>\n",
              "      <td>5.2</td>\n",
              "      <td>-1.6</td>\n",
              "      <td>0.23</td>\n",
              "      <td>-0.014</td>\n",
              "      <td>NaN</td>\n",
              "      <td>NaN</td>\n",
              "      <td>NaN</td>\n",
              "      <td>NaN</td>\n",
              "      <td>NaN</td>\n",
              "      <td>NaN</td>\n",
              "      <td>NaN</td>\n",
              "      <td>NaN</td>\n",
              "      <td>NaN</td>\n",
              "    </tr>\n",
              "    <tr>\n",
              "      <th>model_pow_7</th>\n",
              "      <td>0.93</td>\n",
              "      <td>19</td>\n",
              "      <td>-56</td>\n",
              "      <td>69</td>\n",
              "      <td>-45</td>\n",
              "      <td>17</td>\n",
              "      <td>-3.5</td>\n",
              "      <td>0.4</td>\n",
              "      <td>-0.019</td>\n",
              "      <td>NaN</td>\n",
              "      <td>NaN</td>\n",
              "      <td>NaN</td>\n",
              "      <td>NaN</td>\n",
              "      <td>NaN</td>\n",
              "      <td>NaN</td>\n",
              "      <td>NaN</td>\n",
              "      <td>NaN</td>\n",
              "    </tr>\n",
              "    <tr>\n",
              "      <th>model_pow_8</th>\n",
              "      <td>0.92</td>\n",
              "      <td>43</td>\n",
              "      <td>-1.4e+02</td>\n",
              "      <td>1.8e+02</td>\n",
              "      <td>-1.3e+02</td>\n",
              "      <td>58</td>\n",
              "      <td>-15</td>\n",
              "      <td>2.4</td>\n",
              "      <td>-0.21</td>\n",
              "      <td>0.0077</td>\n",
              "      <td>NaN</td>\n",
              "      <td>NaN</td>\n",
              "      <td>NaN</td>\n",
              "      <td>NaN</td>\n",
              "      <td>NaN</td>\n",
              "      <td>NaN</td>\n",
              "      <td>NaN</td>\n",
              "    </tr>\n",
              "    <tr>\n",
              "      <th>model_pow_9</th>\n",
              "      <td>0.87</td>\n",
              "      <td>1.7e+02</td>\n",
              "      <td>-6.1e+02</td>\n",
              "      <td>9.6e+02</td>\n",
              "      <td>-8.5e+02</td>\n",
              "      <td>4.6e+02</td>\n",
              "      <td>-1.6e+02</td>\n",
              "      <td>37</td>\n",
              "      <td>-5.2</td>\n",
              "      <td>0.42</td>\n",
              "      <td>-0.015</td>\n",
              "      <td>NaN</td>\n",
              "      <td>NaN</td>\n",
              "      <td>NaN</td>\n",
              "      <td>NaN</td>\n",
              "      <td>NaN</td>\n",
              "      <td>NaN</td>\n",
              "    </tr>\n",
              "    <tr>\n",
              "      <th>model_pow_10</th>\n",
              "      <td>0.87</td>\n",
              "      <td>1.4e+02</td>\n",
              "      <td>-4.9e+02</td>\n",
              "      <td>7.3e+02</td>\n",
              "      <td>-6e+02</td>\n",
              "      <td>2.9e+02</td>\n",
              "      <td>-87</td>\n",
              "      <td>15</td>\n",
              "      <td>-0.81</td>\n",
              "      <td>-0.14</td>\n",
              "      <td>0.026</td>\n",
              "      <td>-0.0013</td>\n",
              "      <td>NaN</td>\n",
              "      <td>NaN</td>\n",
              "      <td>NaN</td>\n",
              "      <td>NaN</td>\n",
              "      <td>NaN</td>\n",
              "    </tr>\n",
              "    <tr>\n",
              "      <th>model_pow_11</th>\n",
              "      <td>0.87</td>\n",
              "      <td>-75</td>\n",
              "      <td>5.1e+02</td>\n",
              "      <td>-1.3e+03</td>\n",
              "      <td>1.9e+03</td>\n",
              "      <td>-1.6e+03</td>\n",
              "      <td>9.1e+02</td>\n",
              "      <td>-3.5e+02</td>\n",
              "      <td>91</td>\n",
              "      <td>-16</td>\n",
              "      <td>1.8</td>\n",
              "      <td>-0.12</td>\n",
              "      <td>0.0034</td>\n",
              "      <td>NaN</td>\n",
              "      <td>NaN</td>\n",
              "      <td>NaN</td>\n",
              "      <td>NaN</td>\n",
              "    </tr>\n",
              "    <tr>\n",
              "      <th>model_pow_12</th>\n",
              "      <td>0.87</td>\n",
              "      <td>-3.4e+02</td>\n",
              "      <td>1.9e+03</td>\n",
              "      <td>-4.4e+03</td>\n",
              "      <td>6e+03</td>\n",
              "      <td>-5.2e+03</td>\n",
              "      <td>3.1e+03</td>\n",
              "      <td>-1.3e+03</td>\n",
              "      <td>3.8e+02</td>\n",
              "      <td>-80</td>\n",
              "      <td>12</td>\n",
              "      <td>-1.1</td>\n",
              "      <td>0.062</td>\n",
              "      <td>-0.0016</td>\n",
              "      <td>NaN</td>\n",
              "      <td>NaN</td>\n",
              "      <td>NaN</td>\n",
              "    </tr>\n",
              "    <tr>\n",
              "      <th>model_pow_13</th>\n",
              "      <td>0.86</td>\n",
              "      <td>3.2e+03</td>\n",
              "      <td>-1.8e+04</td>\n",
              "      <td>4.5e+04</td>\n",
              "      <td>-6.7e+04</td>\n",
              "      <td>6.6e+04</td>\n",
              "      <td>-4.6e+04</td>\n",
              "      <td>2.3e+04</td>\n",
              "      <td>-8.5e+03</td>\n",
              "      <td>2.3e+03</td>\n",
              "      <td>-4.5e+02</td>\n",
              "      <td>62</td>\n",
              "      <td>-5.7</td>\n",
              "      <td>0.31</td>\n",
              "      <td>-0.0078</td>\n",
              "      <td>NaN</td>\n",
              "      <td>NaN</td>\n",
              "    </tr>\n",
              "    <tr>\n",
              "      <th>model_pow_14</th>\n",
              "      <td>0.79</td>\n",
              "      <td>2.4e+04</td>\n",
              "      <td>-1.4e+05</td>\n",
              "      <td>3.8e+05</td>\n",
              "      <td>-6.1e+05</td>\n",
              "      <td>6.6e+05</td>\n",
              "      <td>-5e+05</td>\n",
              "      <td>2.8e+05</td>\n",
              "      <td>-1.2e+05</td>\n",
              "      <td>3.7e+04</td>\n",
              "      <td>-8.5e+03</td>\n",
              "      <td>1.5e+03</td>\n",
              "      <td>-1.8e+02</td>\n",
              "      <td>15</td>\n",
              "      <td>-0.73</td>\n",
              "      <td>0.017</td>\n",
              "      <td>NaN</td>\n",
              "    </tr>\n",
              "    <tr>\n",
              "      <th>model_pow_15</th>\n",
              "      <td>0.7</td>\n",
              "      <td>-3.6e+04</td>\n",
              "      <td>2.4e+05</td>\n",
              "      <td>-7.5e+05</td>\n",
              "      <td>1.4e+06</td>\n",
              "      <td>-1.7e+06</td>\n",
              "      <td>1.5e+06</td>\n",
              "      <td>-1e+06</td>\n",
              "      <td>5e+05</td>\n",
              "      <td>-1.9e+05</td>\n",
              "      <td>5.4e+04</td>\n",
              "      <td>-1.2e+04</td>\n",
              "      <td>1.9e+03</td>\n",
              "      <td>-2.2e+02</td>\n",
              "      <td>17</td>\n",
              "      <td>-0.81</td>\n",
              "      <td>0.018</td>\n",
              "    </tr>\n",
              "  </tbody>\n",
              "</table>\n",
              "</div>"
            ],
            "text/plain": [
              "              rss intercept coef_x_1  ... coef_x_13 coef_x_14 coef_x_15\n",
              "model_pow_1   3.3         2    -0.62  ...       NaN       NaN       NaN\n",
              "model_pow_2   3.3       1.9    -0.58  ...       NaN       NaN       NaN\n",
              "model_pow_3   1.1      -1.1        3  ...       NaN       NaN       NaN\n",
              "model_pow_4   1.1     -0.27      1.7  ...       NaN       NaN       NaN\n",
              "model_pow_5     1         3     -5.1  ...       NaN       NaN       NaN\n",
              "model_pow_6  0.99      -2.8      9.5  ...       NaN       NaN       NaN\n",
              "model_pow_7  0.93        19      -56  ...       NaN       NaN       NaN\n",
              "model_pow_8  0.92        43 -1.4e+02  ...       NaN       NaN       NaN\n",
              "model_pow_9  0.87   1.7e+02 -6.1e+02  ...       NaN       NaN       NaN\n",
              "model_pow_10 0.87   1.4e+02 -4.9e+02  ...       NaN       NaN       NaN\n",
              "model_pow_11 0.87       -75  5.1e+02  ...       NaN       NaN       NaN\n",
              "model_pow_12 0.87  -3.4e+02  1.9e+03  ...       NaN       NaN       NaN\n",
              "model_pow_13 0.86   3.2e+03 -1.8e+04  ...   -0.0078       NaN       NaN\n",
              "model_pow_14 0.79   2.4e+04 -1.4e+05  ...     -0.73     0.017       NaN\n",
              "model_pow_15  0.7  -3.6e+04  2.4e+05  ...        17     -0.81     0.018\n",
              "\n",
              "[15 rows x 17 columns]"
            ]
          },
          "metadata": {
            "tags": []
          },
          "execution_count": 32
        }
      ]
    },
    {
      "cell_type": "code",
      "metadata": {
        "id": "2EPmoMjjeTgi"
      },
      "source": [
        "def ridge_regression(data, predictors, alpha, models_to_plot={}):\n",
        "    #Fit the model\n",
        "    ridgereg = Ridge(alpha=alpha,normalize=True)\n",
        "    ridgereg.fit(data[predictors],data['y'])\n",
        "    y_pred = ridgereg.predict(data[predictors])\n",
        "    \n",
        "    #Check if a plot is to be made for the entered alpha\n",
        "    if alpha in models_to_plot:\n",
        "        plt.subplot(models_to_plot[alpha])\n",
        "        plt.tight_layout()\n",
        "        plt.plot(data['x'],y_pred)\n",
        "        plt.plot(data['x'],data['y'],'.')\n",
        "        plt.title('Plot for alpha: %.3g'%alpha)\n",
        "    \n",
        "    #Return the result in pre-defined format\n",
        "    rss = sum((y_pred-data['y'])**2)\n",
        "    ret = [rss]\n",
        "    ret.extend([ridgereg.intercept_])\n",
        "    ret.extend(ridgereg.coef_)\n",
        "    return ret"
      ],
      "execution_count": 33,
      "outputs": []
    },
    {
      "cell_type": "code",
      "metadata": {
        "colab": {
          "base_uri": "https://localhost:8080/",
          "height": 764
        },
        "id": "YYbIL29Ke54_",
        "outputId": "18bfc1e6-f449-4e13-f6fc-c896c7dae826"
      },
      "source": [
        "predictors=['x']\n",
        "predictors.extend(['x_%d'%i for i in range(2,16)])\n",
        "\n",
        "#Set the different values of alpha to be tested\n",
        "alpha_ridge = [1e-15, 1e-10, 1e-8, 1e-4, 1e-3,1e-2, 1, 5, 10, 20]\n",
        "\n",
        "#Initialize the dataframe for storing coefficients.\n",
        "col = ['rss','intercept'] + ['coef_x_%d'%i for i in range(1,16)]\n",
        "ind = ['alpha_%.2g'%alpha_ridge[i] for i in range(0,10)]\n",
        "coef_matrix_ridge = pd.DataFrame(index=ind, columns=col)\n",
        "\n",
        "models_to_plot = {1e-15:231, 1e-10:232, 1e-4:233, 1e-3:234, 1e-2:235, 5:236}\n",
        "for i in range(10):\n",
        "    coef_matrix_ridge.iloc[i,] = ridge_regression(data, predictors, alpha_ridge[i], models_to_plot)"
      ],
      "execution_count": 34,
      "outputs": [
        {
          "output_type": "stream",
          "text": [
            "/usr/local/lib/python3.7/dist-packages/sklearn/linear_model/_ridge.py:148: LinAlgWarning: Ill-conditioned matrix (rcond=3.81609e-17): result may not be accurate.\n",
            "  overwrite_a=True).T\n"
          ],
          "name": "stderr"
        },
        {
          "output_type": "display_data",
          "data": {
            "image/png": "[encoded data removed]",
            "text/plain": [
              "<Figure size 864x720 with 6 Axes>"
            ]
          },
          "metadata": {
            "tags": [],
            "needs_background": "light"
          }
        }
      ]
    },
    {
      "cell_type": "code",
      "metadata": {
        "colab": {
          "base_uri": "https://localhost:8080/",
          "height": 340
        },
        "id": "DX4cczNSe-Ez",
        "outputId": "96c65af3-870e-4c22-89b9-6d53fc26fce7"
      },
      "source": [
        "pd.options.display.float_format = '{:,.2g}'.format\n",
        "coef_matrix_ridge"
      ],
      "execution_count": 35,
      "outputs": [
        {
          "output_type": "execute_result",
          "data": {
            "text/html": [
              "<div>\n",
              "<style scoped>\n",
              "    .dataframe tbody tr th:only-of-type {\n",
              "        vertical-align: middle;\n",
              "    }\n",
              "\n",
              "    .dataframe tbody tr th {\n",
              "        vertical-align: top;\n",
              "    }\n",
              "\n",
              "    .dataframe thead th {\n",
              "        text-align: right;\n",
              "    }\n",
              "</style>\n",
              "<table border=\"1\" class=\"dataframe\">\n",
              "  <thead>\n",
              "    <tr style=\"text-align: right;\">\n",
              "      <th></th>\n",
              "      <th>rss</th>\n",
              "      <th>intercept</th>\n",
              "      <th>coef_x_1</th>\n",
              "      <th>coef_x_2</th>\n",
              "      <th>coef_x_3</th>\n",
              "      <th>coef_x_4</th>\n",
              "      <th>coef_x_5</th>\n",
              "      <th>coef_x_6</th>\n",
              "      <th>coef_x_7</th>\n",
              "      <th>coef_x_8</th>\n",
              "      <th>coef_x_9</th>\n",
              "      <th>coef_x_10</th>\n",
              "      <th>coef_x_11</th>\n",
              "      <th>coef_x_12</th>\n",
              "      <th>coef_x_13</th>\n",
              "      <th>coef_x_14</th>\n",
              "      <th>coef_x_15</th>\n",
              "    </tr>\n",
              "  </thead>\n",
              "  <tbody>\n",
              "    <tr>\n",
              "      <th>alpha_1e-15</th>\n",
              "      <td>0.87</td>\n",
              "      <td>94</td>\n",
              "      <td>-3e+02</td>\n",
              "      <td>3.8e+02</td>\n",
              "      <td>-2.4e+02</td>\n",
              "      <td>68</td>\n",
              "      <td>-1.2</td>\n",
              "      <td>-3.7</td>\n",
              "      <td>0.3</td>\n",
              "      <td>0.19</td>\n",
              "      <td>-0.021</td>\n",
              "      <td>-0.0077</td>\n",
              "      <td>0.0011</td>\n",
              "      <td>0.00025</td>\n",
              "      <td>-6.3e-05</td>\n",
              "      <td>4.6e-06</td>\n",
              "      <td>-9e-08</td>\n",
              "    </tr>\n",
              "    <tr>\n",
              "      <th>alpha_1e-10</th>\n",
              "      <td>0.92</td>\n",
              "      <td>11</td>\n",
              "      <td>-29</td>\n",
              "      <td>31</td>\n",
              "      <td>-15</td>\n",
              "      <td>2.9</td>\n",
              "      <td>0.17</td>\n",
              "      <td>-0.091</td>\n",
              "      <td>-0.011</td>\n",
              "      <td>0.002</td>\n",
              "      <td>0.00064</td>\n",
              "      <td>2.4e-05</td>\n",
              "      <td>-2e-05</td>\n",
              "      <td>-4.2e-06</td>\n",
              "      <td>2.2e-07</td>\n",
              "      <td>2.3e-07</td>\n",
              "      <td>-2.3e-08</td>\n",
              "    </tr>\n",
              "    <tr>\n",
              "      <th>alpha_1e-08</th>\n",
              "      <td>0.95</td>\n",
              "      <td>1.3</td>\n",
              "      <td>-1.5</td>\n",
              "      <td>1.7</td>\n",
              "      <td>-0.68</td>\n",
              "      <td>0.039</td>\n",
              "      <td>0.016</td>\n",
              "      <td>0.00016</td>\n",
              "      <td>-0.00036</td>\n",
              "      <td>-5.4e-05</td>\n",
              "      <td>-2.9e-07</td>\n",
              "      <td>1.1e-06</td>\n",
              "      <td>1.9e-07</td>\n",
              "      <td>2e-08</td>\n",
              "      <td>3.9e-09</td>\n",
              "      <td>8.2e-10</td>\n",
              "      <td>-4.6e-10</td>\n",
              "    </tr>\n",
              "    <tr>\n",
              "      <th>alpha_0.0001</th>\n",
              "      <td>0.96</td>\n",
              "      <td>0.56</td>\n",
              "      <td>0.55</td>\n",
              "      <td>-0.13</td>\n",
              "      <td>-0.026</td>\n",
              "      <td>-0.0028</td>\n",
              "      <td>-0.00011</td>\n",
              "      <td>4.1e-05</td>\n",
              "      <td>1.5e-05</td>\n",
              "      <td>3.7e-06</td>\n",
              "      <td>7.4e-07</td>\n",
              "      <td>1.3e-07</td>\n",
              "      <td>1.9e-08</td>\n",
              "      <td>1.9e-09</td>\n",
              "      <td>-1.3e-10</td>\n",
              "      <td>-1.5e-10</td>\n",
              "      <td>-6.2e-11</td>\n",
              "    </tr>\n",
              "    <tr>\n",
              "      <th>alpha_0.001</th>\n",
              "      <td>1</td>\n",
              "      <td>0.82</td>\n",
              "      <td>0.31</td>\n",
              "      <td>-0.087</td>\n",
              "      <td>-0.02</td>\n",
              "      <td>-0.0028</td>\n",
              "      <td>-0.00022</td>\n",
              "      <td>1.8e-05</td>\n",
              "      <td>1.2e-05</td>\n",
              "      <td>3.4e-06</td>\n",
              "      <td>7.3e-07</td>\n",
              "      <td>1.3e-07</td>\n",
              "      <td>1.9e-08</td>\n",
              "      <td>1.7e-09</td>\n",
              "      <td>-1.5e-10</td>\n",
              "      <td>-1.4e-10</td>\n",
              "      <td>-5.2e-11</td>\n",
              "    </tr>\n",
              "    <tr>\n",
              "      <th>alpha_0.01</th>\n",
              "      <td>1.4</td>\n",
              "      <td>1.3</td>\n",
              "      <td>-0.088</td>\n",
              "      <td>-0.052</td>\n",
              "      <td>-0.01</td>\n",
              "      <td>-0.0014</td>\n",
              "      <td>-0.00013</td>\n",
              "      <td>7.2e-07</td>\n",
              "      <td>4.1e-06</td>\n",
              "      <td>1.3e-06</td>\n",
              "      <td>3e-07</td>\n",
              "      <td>5.6e-08</td>\n",
              "      <td>9e-09</td>\n",
              "      <td>1.1e-09</td>\n",
              "      <td>4.3e-11</td>\n",
              "      <td>-3.1e-11</td>\n",
              "      <td>-1.5e-11</td>\n",
              "    </tr>\n",
              "    <tr>\n",
              "      <th>alpha_1</th>\n",
              "      <td>5.6</td>\n",
              "      <td>0.97</td>\n",
              "      <td>-0.14</td>\n",
              "      <td>-0.019</td>\n",
              "      <td>-0.003</td>\n",
              "      <td>-0.00047</td>\n",
              "      <td>-7e-05</td>\n",
              "      <td>-9.9e-06</td>\n",
              "      <td>-1.3e-06</td>\n",
              "      <td>-1.4e-07</td>\n",
              "      <td>-9.3e-09</td>\n",
              "      <td>1.3e-09</td>\n",
              "      <td>7.8e-10</td>\n",
              "      <td>2.4e-10</td>\n",
              "      <td>6.2e-11</td>\n",
              "      <td>1.4e-11</td>\n",
              "      <td>3.2e-12</td>\n",
              "    </tr>\n",
              "    <tr>\n",
              "      <th>alpha_5</th>\n",
              "      <td>14</td>\n",
              "      <td>0.55</td>\n",
              "      <td>-0.059</td>\n",
              "      <td>-0.0085</td>\n",
              "      <td>-0.0014</td>\n",
              "      <td>-0.00024</td>\n",
              "      <td>-4.1e-05</td>\n",
              "      <td>-6.9e-06</td>\n",
              "      <td>-1.1e-06</td>\n",
              "      <td>-1.9e-07</td>\n",
              "      <td>-3.1e-08</td>\n",
              "      <td>-5.1e-09</td>\n",
              "      <td>-8.2e-10</td>\n",
              "      <td>-1.3e-10</td>\n",
              "      <td>-2e-11</td>\n",
              "      <td>-3e-12</td>\n",
              "      <td>-4.2e-13</td>\n",
              "    </tr>\n",
              "    <tr>\n",
              "      <th>alpha_10</th>\n",
              "      <td>18</td>\n",
              "      <td>0.4</td>\n",
              "      <td>-0.037</td>\n",
              "      <td>-0.0055</td>\n",
              "      <td>-0.00095</td>\n",
              "      <td>-0.00017</td>\n",
              "      <td>-3e-05</td>\n",
              "      <td>-5.2e-06</td>\n",
              "      <td>-9.2e-07</td>\n",
              "      <td>-1.6e-07</td>\n",
              "      <td>-2.9e-08</td>\n",
              "      <td>-5.1e-09</td>\n",
              "      <td>-9.1e-10</td>\n",
              "      <td>-1.6e-10</td>\n",
              "      <td>-2.9e-11</td>\n",
              "      <td>-5.1e-12</td>\n",
              "      <td>-9.1e-13</td>\n",
              "    </tr>\n",
              "    <tr>\n",
              "      <th>alpha_20</th>\n",
              "      <td>23</td>\n",
              "      <td>0.28</td>\n",
              "      <td>-0.022</td>\n",
              "      <td>-0.0034</td>\n",
              "      <td>-0.0006</td>\n",
              "      <td>-0.00011</td>\n",
              "      <td>-2e-05</td>\n",
              "      <td>-3.6e-06</td>\n",
              "      <td>-6.6e-07</td>\n",
              "      <td>-1.2e-07</td>\n",
              "      <td>-2.2e-08</td>\n",
              "      <td>-4e-09</td>\n",
              "      <td>-7.5e-10</td>\n",
              "      <td>-1.4e-10</td>\n",
              "      <td>-2.5e-11</td>\n",
              "      <td>-4.7e-12</td>\n",
              "      <td>-8.7e-13</td>\n",
              "    </tr>\n",
              "  </tbody>\n",
              "</table>\n",
              "</div>"
            ],
            "text/plain": [
              "              rss intercept coef_x_1  ... coef_x_13 coef_x_14 coef_x_15\n",
              "alpha_1e-15  0.87        94   -3e+02  ...  -6.3e-05   4.6e-06    -9e-08\n",
              "alpha_1e-10  0.92        11      -29  ...   2.2e-07   2.3e-07  -2.3e-08\n",
              "alpha_1e-08  0.95       1.3     -1.5  ...   3.9e-09   8.2e-10  -4.6e-10\n",
              "alpha_0.0001 0.96      0.56     0.55  ...  -1.3e-10  -1.5e-10  -6.2e-11\n",
              "alpha_0.001     1      0.82     0.31  ...  -1.5e-10  -1.4e-10  -5.2e-11\n",
              "alpha_0.01    1.4       1.3   -0.088  ...   4.3e-11  -3.1e-11  -1.5e-11\n",
              "alpha_1       5.6      0.97    -0.14  ...   6.2e-11   1.4e-11   3.2e-12\n",
              "alpha_5        14      0.55   -0.059  ...    -2e-11    -3e-12  -4.2e-13\n",
              "alpha_10       18       0.4   -0.037  ...  -2.9e-11  -5.1e-12  -9.1e-13\n",
              "alpha_20       23      0.28   -0.022  ...  -2.5e-11  -4.7e-12  -8.7e-13\n",
              "\n",
              "[10 rows x 17 columns]"
            ]
          },
          "metadata": {
            "tags": []
          },
          "execution_count": 35
        }
      ]
    },
    {
      "cell_type": "code",
      "metadata": {
        "colab": {
          "base_uri": "https://localhost:8080/"
        },
        "id": "GSfgeNU6fOtz",
        "outputId": "639e6a33-b1f5-48a6-a056-c8a90adcb191"
      },
      "source": [
        "coef_matrix_ridge.apply(lambda x: sum(x.values==0),axis=1)"
      ],
      "execution_count": 36,
      "outputs": [
        {
          "output_type": "execute_result",
          "data": {
            "text/plain": [
              "alpha_1e-15     0\n",
              "alpha_1e-10     0\n",
              "alpha_1e-08     0\n",
              "alpha_0.0001    0\n",
              "alpha_0.001     0\n",
              "alpha_0.01      0\n",
              "alpha_1         0\n",
              "alpha_5         0\n",
              "alpha_10        0\n",
              "alpha_20        0\n",
              "dtype: int64"
            ]
          },
          "metadata": {
            "tags": []
          },
          "execution_count": 36
        }
      ]
    },
    {
      "cell_type": "code",
      "metadata": {
        "id": "WYyVHvtPfd6D"
      },
      "source": [
        "def lasso_regression(data, predictors, alpha, models_to_plot={}):\n",
        "    #Fit the model\n",
        "    lassoreg = Lasso(alpha=alpha,normalize=True, max_iter=1e5)\n",
        "    lassoreg.fit(data[predictors],data['y'])\n",
        "    y_pred = lassoreg.predict(data[predictors])\n",
        "    \n",
        "    #Check if a plot is to be made for the entered alpha\n",
        "    if alpha in models_to_plot:\n",
        "        plt.subplot(models_to_plot[alpha])\n",
        "        plt.tight_layout()\n",
        "        plt.plot(data['x'],y_pred)\n",
        "        plt.plot(data['x'],data['y'],'.')\n",
        "        plt.title('Plot for alpha: %.3g'%alpha)\n",
        "    \n",
        "    #Return the result in pre-defined format\n",
        "    rss = sum((y_pred-data['y'])**2)\n",
        "    ret = [rss]\n",
        "    ret.extend([lassoreg.intercept_])\n",
        "    ret.extend(lassoreg.coef_)\n",
        "    return ret"
      ],
      "execution_count": 37,
      "outputs": []
    },
    {
      "cell_type": "code",
      "metadata": {
        "colab": {
          "base_uri": "https://localhost:8080/",
          "height": 856
        },
        "id": "ZXWIyxFCf0Je",
        "outputId": "7c7f8fd9-4bac-4b1e-cb53-00b335370edd"
      },
      "source": [
        "#Initialize predictors to all 15 powers of x\n",
        "predictors=['x']\n",
        "predictors.extend(['x_%d'%i for i in range(2,16)])\n",
        "\n",
        "#Define the alpha values to test\n",
        "alpha_lasso = [1e-15, 1e-10, 1e-8, 1e-5,1e-4, 1e-3,1e-2, 1, 5, 10]\n",
        "\n",
        "#Initialize the dataframe to store coefficients\n",
        "col = ['rss','intercept'] + ['coef_x_%d'%i for i in range(1,16)]\n",
        "ind = ['alpha_%.2g'%alpha_lasso[i] for i in range(0,10)]\n",
        "coef_matrix_lasso = pd.DataFrame(index=ind, columns=col)\n",
        "\n",
        "#Define the models to plot\n",
        "models_to_plot = {1e-10:231, 1e-5:232,1e-4:233, 1e-3:234, 1e-2:235, 1:236}\n",
        "\n",
        "#Iterate over the 10 alpha values:\n",
        "for i in range(10):\n",
        "    coef_matrix_lasso.iloc[i,] = lasso_regression(data, predictors, alpha_lasso[i], models_to_plot)"
      ],
      "execution_count": 38,
      "outputs": [
        {
          "output_type": "stream",
          "text": [
            "/usr/local/lib/python3.7/dist-packages/sklearn/linear_model/_coordinate_descent.py:476: ConvergenceWarning: Objective did not converge. You might want to increase the number of iterations. Duality gap: 0.47835738259036853, tolerance: 0.00369480384218441\n",
            "  positive)\n",
            "/usr/local/lib/python3.7/dist-packages/sklearn/linear_model/_coordinate_descent.py:476: ConvergenceWarning: Objective did not converge. You might want to increase the number of iterations. Duality gap: 0.4782818399057239, tolerance: 0.00369480384218441\n",
            "  positive)\n",
            "/usr/local/lib/python3.7/dist-packages/sklearn/linear_model/_coordinate_descent.py:476: ConvergenceWarning: Objective did not converge. You might want to increase the number of iterations. Duality gap: 0.47079330190410706, tolerance: 0.00369480384218441\n",
            "  positive)\n"
          ],
          "name": "stderr"
        },
        {
          "output_type": "display_data",
          "data": {
            "image/png": "[encoded data removed]",
            "text/plain": [
              "<Figure size 864x720 with 6 Axes>"
            ]
          },
          "metadata": {
            "tags": [],
            "needs_background": "light"
          }
        }
      ]
    },
    {
      "cell_type": "code",
      "metadata": {
        "colab": {
          "base_uri": "https://localhost:8080/"
        },
        "id": "vFZQpbCpf7O5",
        "outputId": "3faeb1cb-c2c6-4b8a-9aa8-87e3d1dd5296"
      },
      "source": [
        "coef_matrix_lasso.apply(lambda x: sum(x.values==0),axis=1)"
      ],
      "execution_count": 39,
      "outputs": [
        {
          "output_type": "execute_result",
          "data": {
            "text/plain": [
              "alpha_1e-15      0\n",
              "alpha_1e-10      0\n",
              "alpha_1e-08      0\n",
              "alpha_1e-05      8\n",
              "alpha_0.0001    10\n",
              "alpha_0.001     12\n",
              "alpha_0.01      13\n",
              "alpha_1         15\n",
              "alpha_5         15\n",
              "alpha_10        15\n",
              "dtype: int64"
            ]
          },
          "metadata": {
            "tags": []
          },
          "execution_count": 39
        }
      ]
    },
    {
      "cell_type": "markdown",
      "metadata": {
        "id": "NLg3OOrTgOhd"
      },
      "source": [
        "We can observe that even for a small value of alpha, a significant number of coefficients are zero. This also explains the horizontal line fit for alpha=1 in the lasso plots, its just a baseline model! This phenomenon of most of the coefficients being zero is called ‘sparsity‘."
      ]
    },
    {
      "cell_type": "code",
      "metadata": {
        "colab": {
          "base_uri": "https://localhost:8080/",
          "height": 248
        },
        "id": "6dpZamAagG18",
        "outputId": "797ce6c3-b971-4ccf-d925-40bda7f15f32"
      },
      "source": [
        "from sklearn.datasets import load_breast_cancer\n",
        "\n",
        "cancer = load_breast_cancer()\n",
        "cf = pd.DataFrame(data=cancer.data,columns=cancer.feature_names)\n",
        "cf.head()"
      ],
      "execution_count": 40,
      "outputs": [
        {
          "output_type": "execute_result",
          "data": {
            "text/html": [
              "<div>\n",
              "<style scoped>\n",
              "    .dataframe tbody tr th:only-of-type {\n",
              "        vertical-align: middle;\n",
              "    }\n",
              "\n",
              "    .dataframe tbody tr th {\n",
              "        vertical-align: top;\n",
              "    }\n",
              "\n",
              "    .dataframe thead th {\n",
              "        text-align: right;\n",
              "    }\n",
              "</style>\n",
              "<table border=\"1\" class=\"dataframe\">\n",
              "  <thead>\n",
              "    <tr style=\"text-align: right;\">\n",
              "      <th></th>\n",
              "      <th>mean radius</th>\n",
              "      <th>mean texture</th>\n",
              "      <th>mean perimeter</th>\n",
              "      <th>mean area</th>\n",
              "      <th>mean smoothness</th>\n",
              "      <th>mean compactness</th>\n",
              "      <th>mean concavity</th>\n",
              "      <th>mean concave points</th>\n",
              "      <th>mean symmetry</th>\n",
              "      <th>mean fractal dimension</th>\n",
              "      <th>radius error</th>\n",
              "      <th>texture error</th>\n",
              "      <th>perimeter error</th>\n",
              "      <th>area error</th>\n",
              "      <th>smoothness error</th>\n",
              "      <th>compactness error</th>\n",
              "      <th>concavity error</th>\n",
              "      <th>concave points error</th>\n",
              "      <th>symmetry error</th>\n",
              "      <th>fractal dimension error</th>\n",
              "      <th>worst radius</th>\n",
              "      <th>worst texture</th>\n",
              "      <th>worst perimeter</th>\n",
              "      <th>worst area</th>\n",
              "      <th>worst smoothness</th>\n",
              "      <th>worst compactness</th>\n",
              "      <th>worst concavity</th>\n",
              "      <th>worst concave points</th>\n",
              "      <th>worst symmetry</th>\n",
              "      <th>worst fractal dimension</th>\n",
              "    </tr>\n",
              "  </thead>\n",
              "  <tbody>\n",
              "    <tr>\n",
              "      <th>0</th>\n",
              "      <td>18</td>\n",
              "      <td>10</td>\n",
              "      <td>1.2e+02</td>\n",
              "      <td>1e+03</td>\n",
              "      <td>0.12</td>\n",
              "      <td>0.28</td>\n",
              "      <td>0.3</td>\n",
              "      <td>0.15</td>\n",
              "      <td>0.24</td>\n",
              "      <td>0.079</td>\n",
              "      <td>1.1</td>\n",
              "      <td>0.91</td>\n",
              "      <td>8.6</td>\n",
              "      <td>1.5e+02</td>\n",
              "      <td>0.0064</td>\n",
              "      <td>0.049</td>\n",
              "      <td>0.054</td>\n",
              "      <td>0.016</td>\n",
              "      <td>0.03</td>\n",
              "      <td>0.0062</td>\n",
              "      <td>25</td>\n",
              "      <td>17</td>\n",
              "      <td>1.8e+02</td>\n",
              "      <td>2e+03</td>\n",
              "      <td>0.16</td>\n",
              "      <td>0.67</td>\n",
              "      <td>0.71</td>\n",
              "      <td>0.27</td>\n",
              "      <td>0.46</td>\n",
              "      <td>0.12</td>\n",
              "    </tr>\n",
              "    <tr>\n",
              "      <th>1</th>\n",
              "      <td>21</td>\n",
              "      <td>18</td>\n",
              "      <td>1.3e+02</td>\n",
              "      <td>1.3e+03</td>\n",
              "      <td>0.085</td>\n",
              "      <td>0.079</td>\n",
              "      <td>0.087</td>\n",
              "      <td>0.07</td>\n",
              "      <td>0.18</td>\n",
              "      <td>0.057</td>\n",
              "      <td>0.54</td>\n",
              "      <td>0.73</td>\n",
              "      <td>3.4</td>\n",
              "      <td>74</td>\n",
              "      <td>0.0052</td>\n",
              "      <td>0.013</td>\n",
              "      <td>0.019</td>\n",
              "      <td>0.013</td>\n",
              "      <td>0.014</td>\n",
              "      <td>0.0035</td>\n",
              "      <td>25</td>\n",
              "      <td>23</td>\n",
              "      <td>1.6e+02</td>\n",
              "      <td>2e+03</td>\n",
              "      <td>0.12</td>\n",
              "      <td>0.19</td>\n",
              "      <td>0.24</td>\n",
              "      <td>0.19</td>\n",
              "      <td>0.28</td>\n",
              "      <td>0.089</td>\n",
              "    </tr>\n",
              "    <tr>\n",
              "      <th>2</th>\n",
              "      <td>20</td>\n",
              "      <td>21</td>\n",
              "      <td>1.3e+02</td>\n",
              "      <td>1.2e+03</td>\n",
              "      <td>0.11</td>\n",
              "      <td>0.16</td>\n",
              "      <td>0.2</td>\n",
              "      <td>0.13</td>\n",
              "      <td>0.21</td>\n",
              "      <td>0.06</td>\n",
              "      <td>0.75</td>\n",
              "      <td>0.79</td>\n",
              "      <td>4.6</td>\n",
              "      <td>94</td>\n",
              "      <td>0.0062</td>\n",
              "      <td>0.04</td>\n",
              "      <td>0.038</td>\n",
              "      <td>0.021</td>\n",
              "      <td>0.022</td>\n",
              "      <td>0.0046</td>\n",
              "      <td>24</td>\n",
              "      <td>26</td>\n",
              "      <td>1.5e+02</td>\n",
              "      <td>1.7e+03</td>\n",
              "      <td>0.14</td>\n",
              "      <td>0.42</td>\n",
              "      <td>0.45</td>\n",
              "      <td>0.24</td>\n",
              "      <td>0.36</td>\n",
              "      <td>0.088</td>\n",
              "    </tr>\n",
              "    <tr>\n",
              "      <th>3</th>\n",
              "      <td>11</td>\n",
              "      <td>20</td>\n",
              "      <td>78</td>\n",
              "      <td>3.9e+02</td>\n",
              "      <td>0.14</td>\n",
              "      <td>0.28</td>\n",
              "      <td>0.24</td>\n",
              "      <td>0.11</td>\n",
              "      <td>0.26</td>\n",
              "      <td>0.097</td>\n",
              "      <td>0.5</td>\n",
              "      <td>1.2</td>\n",
              "      <td>3.4</td>\n",
              "      <td>27</td>\n",
              "      <td>0.0091</td>\n",
              "      <td>0.075</td>\n",
              "      <td>0.057</td>\n",
              "      <td>0.019</td>\n",
              "      <td>0.06</td>\n",
              "      <td>0.0092</td>\n",
              "      <td>15</td>\n",
              "      <td>26</td>\n",
              "      <td>99</td>\n",
              "      <td>5.7e+02</td>\n",
              "      <td>0.21</td>\n",
              "      <td>0.87</td>\n",
              "      <td>0.69</td>\n",
              "      <td>0.26</td>\n",
              "      <td>0.66</td>\n",
              "      <td>0.17</td>\n",
              "    </tr>\n",
              "    <tr>\n",
              "      <th>4</th>\n",
              "      <td>20</td>\n",
              "      <td>14</td>\n",
              "      <td>1.4e+02</td>\n",
              "      <td>1.3e+03</td>\n",
              "      <td>0.1</td>\n",
              "      <td>0.13</td>\n",
              "      <td>0.2</td>\n",
              "      <td>0.1</td>\n",
              "      <td>0.18</td>\n",
              "      <td>0.059</td>\n",
              "      <td>0.76</td>\n",
              "      <td>0.78</td>\n",
              "      <td>5.4</td>\n",
              "      <td>94</td>\n",
              "      <td>0.011</td>\n",
              "      <td>0.025</td>\n",
              "      <td>0.057</td>\n",
              "      <td>0.019</td>\n",
              "      <td>0.018</td>\n",
              "      <td>0.0051</td>\n",
              "      <td>23</td>\n",
              "      <td>17</td>\n",
              "      <td>1.5e+02</td>\n",
              "      <td>1.6e+03</td>\n",
              "      <td>0.14</td>\n",
              "      <td>0.2</td>\n",
              "      <td>0.4</td>\n",
              "      <td>0.16</td>\n",
              "      <td>0.24</td>\n",
              "      <td>0.077</td>\n",
              "    </tr>\n",
              "  </tbody>\n",
              "</table>\n",
              "</div>"
            ],
            "text/plain": [
              "   mean radius  mean texture  ...  worst symmetry  worst fractal dimension\n",
              "0           18            10  ...            0.46                     0.12\n",
              "1           21            18  ...            0.28                    0.089\n",
              "2           20            21  ...            0.36                    0.088\n",
              "3           11            20  ...            0.66                     0.17\n",
              "4           20            14  ...            0.24                    0.077\n",
              "\n",
              "[5 rows x 30 columns]"
            ]
          },
          "metadata": {
            "tags": []
          },
          "execution_count": 40
        }
      ]
    },
    {
      "cell_type": "code",
      "metadata": {
        "id": "Z9gf8k9cg6Qn"
      },
      "source": [
        "X = cancer.data\n",
        "y = cancer.target\n",
        "\n",
        "X_train,X_test,y_train,y_test = train_test_split(X,y,test_size = 0.3,random_state=0)\n",
        "\n",
        "lr = Lasso()\n",
        "lr.fit(X_train,y_train)\n",
        "train_score  = lr.score(X_train,y_train)\n",
        "test_score = lr.score(X_test,y_test)\n",
        "\n",
        "coeff_used = np.sum(lr.coef_ !=0)"
      ],
      "execution_count": 42,
      "outputs": []
    },
    {
      "cell_type": "code",
      "metadata": {
        "colab": {
          "base_uri": "https://localhost:8080/"
        },
        "id": "f2EzcSx4iB34",
        "outputId": "c7894533-5f5f-4e41-aab2-106dfec0c90b"
      },
      "source": [
        "print (\"training score:\", train_score)\n",
        "print (\"test score: \", test_score)\n",
        "print (\"number of features used: \", coeff_used)"
      ],
      "execution_count": 44,
      "outputs": [
        {
          "output_type": "stream",
          "text": [
            "training score: 0.5519600429726201\n",
            "test score:  0.6069971851415674\n",
            "number of features used:  2\n"
          ],
          "name": "stdout"
        }
      ]
    },
    {
      "cell_type": "code",
      "metadata": {
        "colab": {
          "base_uri": "https://localhost:8080/"
        },
        "id": "B8YY72f3iPgK",
        "outputId": "cbd256c8-4ec3-44ea-ddbe-d4da242931d9"
      },
      "source": [
        "lasso001 = Lasso(alpha=0.01, max_iter=10e5)\n",
        "lasso001.fit(X_train,y_train)\n",
        "train_score001=lasso001.score(X_train,y_train)\n",
        "test_score001=lasso001.score(X_test,y_test)\n",
        "coeff_used001 = np.sum(lasso001.coef_!=0)\n",
        "print (\"training score for alpha=0.01:\", train_score001)\n",
        "print (\"test score for alpha =0.01: \", test_score001)\n",
        "print (\"number of features used: for alpha =0.01:\", coeff_used001)\n",
        "lasso00001 = Lasso(alpha=0.0001, max_iter=10e5)\n",
        "lasso00001.fit(X_train,y_train)\n",
        "train_score00001=lasso00001.score(X_train,y_train)\n",
        "test_score00001=lasso00001.score(X_test,y_test)\n",
        "coeff_used00001 = np.sum(lasso00001.coef_!=0)\n",
        "print (\"training score for alpha=0.0001:\", train_score00001) \n",
        "print (\"test score for alpha =0.0001: \", test_score00001)\n",
        "print (\"number of features used: for alpha =0.0001:\", coeff_used00001)"
      ],
      "execution_count": 46,
      "outputs": [
        {
          "output_type": "stream",
          "text": [
            "training score for alpha=0.01: 0.6943014467260333\n",
            "test score for alpha =0.01:  0.692780681834287\n",
            "number of features used: for alpha =0.01: 9\n",
            "training score for alpha=0.0001: 0.7728906592572694\n",
            "test score for alpha =0.0001:  0.7352898421549576\n",
            "number of features used: for alpha =0.0001: 21\n"
          ],
          "name": "stdout"
        }
      ]
    },
    {
      "cell_type": "code",
      "metadata": {
        "colab": {
          "base_uri": "https://localhost:8080/",
          "height": 729
        },
        "id": "iVMfYRxUitqc",
        "outputId": "967c2d86-0956-4e92-c3f9-e338885bac36"
      },
      "source": [
        "plt.subplot(1,2,1)\n",
        "plt.plot(lr.coef_,alpha=0.7,linestyle='none',marker='*',markersize=5,color='red',label=r'Lasso; $\\alpha = 1$',zorder=7) # alpha here is for transparency\n",
        "plt.plot(lasso001.coef_,alpha=0.5,linestyle='none',marker='d',markersize=6,color='blue',label=r'Lasso; $\\alpha = 0.01$') # alpha here is for transparency\n",
        "\n",
        "plt.xlabel('Coefficient Index',fontsize=16)\n",
        "plt.ylabel('Coefficient Magnitude',fontsize=16)\n",
        "plt.legend(fontsize=13,loc=4)\n",
        "plt.subplot(1,2,2)\n",
        "plt.plot(lr.coef_,alpha=0.7,linestyle='none',marker='*',markersize=5,color='red',label=r'Lasso; $\\alpha = 1$',zorder=7) # alpha here is for transparency\n",
        "plt.plot(lasso001.coef_,alpha=0.5,linestyle='none',marker='d',markersize=6,color='blue',label=r'Lasso; $\\alpha = 0.01$') # alpha here is for transparency\n",
        "plt.plot(lasso00001.coef_,alpha=0.8,linestyle='none',marker='v',markersize=6,color='black',label=r'Lasso; $\\alpha = 0.00001$') # alpha here is for transparency\n",
        "\n",
        "plt.xlabel('Coefficient Index',fontsize=16)\n",
        "plt.ylabel('Coefficient Magnitude',fontsize=16)\n",
        "plt.legend(fontsize=13,loc=4)\n",
        "plt.tight_layout()\n",
        "plt.show()"
      ],
      "execution_count": 50,
      "outputs": [
        {
          "output_type": "display_data",
          "data": {
            "image/png": "[encoded data removed]",
            "text/plain": [
              "<Figure size 864x720 with 2 Axes>"
            ]
          },
          "metadata": {
            "tags": [],
            "needs_background": "light"
          }
        }
      ]
    },
    {
      "cell_type": "code",
      "metadata": {
        "id": "lax7AYd8jV-0"
      },
      "source": [
        ""
      ],
      "execution_count": null,
      "outputs": []
    }
  ]
}