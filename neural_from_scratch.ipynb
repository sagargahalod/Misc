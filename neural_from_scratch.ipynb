{
  "nbformat": 4,
  "nbformat_minor": 0,
  "metadata": {
    "colab": {
      "name": "neural from scratch.ipynb",
      "provenance": [],
      "authorship_tag": "ABX9TyNBxLWbHrH57wlw96q4CFB5",
      "include_colab_link": true
    },
    "kernelspec": {
      "name": "python3",
      "display_name": "Python 3"
    },
    "language_info": {
      "name": "python"
    }
  },
  "cells": [
    {
      "cell_type": "markdown",
      "metadata": {
        "id": "view-in-github",
        "colab_type": "text"
      },
      "source": [
        "<a href=\"https://colab.research.google.com/github/sagargahalod/Misc/blob/master/neural_from_scratch.ipynb\" target=\"_parent\"><img src=\"https://colab.research.google.com/assets/colab-badge.svg\" alt=\"Open In Colab\"/></a>"
      ]
    },
    {
      "cell_type": "code",
      "metadata": {
        "id": "NkJH9knXqQoK"
      },
      "source": [
        "import numpy as np\n",
        "import matplotlib.pyplot as plt\n",
        "import pandas as pd"
      ],
      "execution_count": 1,
      "outputs": []
    },
    {
      "cell_type": "code",
      "metadata": {
        "id": "1I4Ka-7hqWYP"
      },
      "source": [
        "input = np.arange(4,9)\n",
        "bias = 2\n",
        "weight = np.arange(3,8)\n"
      ],
      "execution_count": 10,
      "outputs": []
    },
    {
      "cell_type": "code",
      "metadata": {
        "colab": {
          "base_uri": "https://localhost:8080/"
        },
        "id": "gPnlLAkZqsqd",
        "outputId": "797cc8e7-9fb9-417d-933d-f9b5a931343c"
      },
      "source": [
        "input,bias,weight"
      ],
      "execution_count": 11,
      "outputs": [
        {
          "output_type": "execute_result",
          "data": {
            "text/plain": [
              "(array([4, 5, 6, 7, 8]), 2, array([3, 4, 5, 6, 7]))"
            ]
          },
          "metadata": {
            "tags": []
          },
          "execution_count": 11
        }
      ]
    },
    {
      "cell_type": "code",
      "metadata": {
        "colab": {
          "base_uri": "https://localhost:8080/"
        },
        "id": "k5IEEBUEqvIi",
        "outputId": "a3ad2c90-3551-43e4-b5ad-8b20bc8e8e10"
      },
      "source": [
        "neuron1 =((input[0]*weight[0])+(input[1]*weight[1])+(input[2]*weight[2])+(input[3]*weight[3])+(input[4]*weight[4])+bias)\n",
        "neuron1"
      ],
      "execution_count": 12,
      "outputs": [
        {
          "output_type": "execute_result",
          "data": {
            "text/plain": [
              "162"
            ]
          },
          "metadata": {
            "tags": []
          },
          "execution_count": 12
        }
      ]
    },
    {
      "cell_type": "code",
      "metadata": {
        "id": "RVbjyZb4rAku"
      },
      "source": [
        "#multiple neurons in the layer \n",
        "input = np.arange(4,9)\n",
        "bias1 = 2\n",
        "bias2 = -4\n",
        "bias3 = 8\n",
        "weight1 = np.arange(3,8)\n",
        "weight2 = np.arange(4,9)\n",
        "weight3 = np.arange(2,7)\n"
      ],
      "execution_count": 17,
      "outputs": []
    },
    {
      "cell_type": "code",
      "metadata": {
        "id": "CoP0qlAisiL2"
      },
      "source": [
        "output = [(input[0]*weight1[0])+(input[1]*weight1[1])+(input[2]*weight1[2])+(input[3]*weight1[3])+(input[4]*weight1[4])+bias1,\n",
        "          (input[0]*weight2[0])+(input[1]*weight2[1])+(input[2]*weight2[2])+(input[3]*weight2[3])+(input[4]*weight2[4])+bias2,\n",
        "          (input[0]*weight3[0])+(input[1]*weight3[1])+(input[2]*weight3[2])+(input[3]*weight3[3])+(input[4]*weight3[4])+bias3]\n",
        "          "
      ],
      "execution_count": 18,
      "outputs": []
    },
    {
      "cell_type": "code",
      "metadata": {
        "colab": {
          "base_uri": "https://localhost:8080/"
        },
        "id": "tBkAmz1Ds6xs",
        "outputId": "d46b93be-35bc-4150-ead0-b364898a9e4b"
      },
      "source": [
        "output"
      ],
      "execution_count": 19,
      "outputs": [
        {
          "output_type": "execute_result",
          "data": {
            "text/plain": [
              "[162, 186, 138]"
            ]
          },
          "metadata": {
            "tags": []
          },
          "execution_count": 19
        }
      ]
    },
    {
      "cell_type": "code",
      "metadata": {
        "colab": {
          "base_uri": "https://localhost:8080/"
        },
        "id": "YTTL-A9mtHj4",
        "outputId": "138c416a-caed-46cf-a5d8-81e27b4a2793"
      },
      "source": [
        "input = np.arange(4,9)\n",
        "bias = np.arange(1,4)\n",
        "weights =[np.arange(3,8),np.arange(4,9),np.arange(2,7)]\n",
        "\n",
        "# output for current layer\n",
        "L_output = []\n",
        "\n",
        "#Calculating output for each neuron\n",
        "for i,j in zip(weights,bias):\n",
        "  neuron_output = 0\n",
        "  # For each input and weight to the neuron\n",
        "  for k,l in zip(input,i):\n",
        "    neuron_output += k*l   #neuron input * weight \n",
        "  # Add bias\n",
        "  neuron_output += j\n",
        "  # Put neuron’s result to the layer’s output list\n",
        "  L_output.append(neuron_output)\n",
        "\n",
        "print(L_output)\n"
      ],
      "execution_count": 27,
      "outputs": [
        {
          "output_type": "stream",
          "text": [
            "[161, 192, 133]\n"
          ],
          "name": "stdout"
        }
      ]
    },
    {
      "cell_type": "code",
      "metadata": {
        "colab": {
          "base_uri": "https://localhost:8080/"
        },
        "id": "rGIr58J0wvfm",
        "outputId": "c0c3e986-e7fe-4e43-9aa5-d3002325c66a"
      },
      "source": [
        "for i,j in zip(weights,bias):\n",
        "  print (i,j)"
      ],
      "execution_count": 26,
      "outputs": [
        {
          "output_type": "stream",
          "text": [
            "[3 4 5 6 7] 1\n",
            "[4 5 6 7 8] 2\n",
            "[2 3 4 5 6] 3\n"
          ],
          "name": "stdout"
        }
      ]
    },
    {
      "cell_type": "code",
      "metadata": {
        "colab": {
          "base_uri": "https://localhost:8080/"
        },
        "id": "Gk2Nd7bIx800",
        "outputId": "16e59d61-5140-4293-b84d-92dcb684bb25"
      },
      "source": [
        "a = [ 1 , 2 , 3 ]\n",
        "b = [ 2 , 3 , 4 ]\n",
        "dot_product = a[ 0 ] * b[ 0 ] + a[ 1 ] * b[ 1 ] + a[ 2 ] * b[ 2 ]\n",
        "print (dot_product)"
      ],
      "execution_count": 28,
      "outputs": [
        {
          "output_type": "stream",
          "text": [
            "20\n"
          ],
          "name": "stdout"
        }
      ]
    },
    {
      "cell_type": "code",
      "metadata": {
        "colab": {
          "base_uri": "https://localhost:8080/"
        },
        "id": "9e-lZP3u4ugm",
        "outputId": "1ba371de-5b39-46fd-e9c9-86008d71a789"
      },
      "source": [
        "inputs = [ 1.0 , 2.0 , 3.0 , 2.5 ]\n",
        "weights = [ 0.2 , 0.8 , - 0.5 , 1.0 ]\n",
        "bias = 2.0\n",
        "outputs = np.dot(weights, inputs) + bias\n",
        "print (outputs)"
      ],
      "execution_count": 29,
      "outputs": [
        {
          "output_type": "stream",
          "text": [
            "4.8\n"
          ],
          "name": "stdout"
        }
      ]
    },
    {
      "cell_type": "code",
      "metadata": {
        "colab": {
          "base_uri": "https://localhost:8080/"
        },
        "id": "3G-jQvG_5AHq",
        "outputId": "4872e216-6464-4020-8dc0-21fc3763ea46"
      },
      "source": [
        "inputs = [ 1.0 , 2.0 , 3.0 , 2.5 ]\n",
        "weights = [[ 0.2 , 0.8 , - 0.5 , 1 ],\n",
        "           [ 0.5 , - 0.91 , 0.26 , - 0.5 ],\n",
        "           [ - 0.26 , - 0.27 , 0.17 , 0.87 ]]\n",
        "biases = [ 2.0 , 3.0 , 0.5 ]\n",
        "# Order is changed first we are calculating the dot products between input and weights and then adding the corresponding biases\n",
        "layer_outputs = np.dot(weights, inputs) + biases\n",
        "print (layer_outputs)"
      ],
      "execution_count": 33,
      "outputs": [
        {
          "output_type": "stream",
          "text": [
            "[4.8   1.21  2.385]\n"
          ],
          "name": "stdout"
        }
      ]
    },
    {
      "cell_type": "markdown",
      "metadata": {
        "id": "8QN3D5FZAJ3g"
      },
      "source": [
        "As we can see, to perform a matrix product on two vectors, we took one as is, transforming it into\n",
        "a row vector, and the second one using transposition on it to turn it into a column vector. That\n",
        "allowed us to perform a matrix product that returned a matrix containing a single value"
      ]
    },
    {
      "cell_type": "code",
      "metadata": {
        "colab": {
          "base_uri": "https://localhost:8080/"
        },
        "id": "GkRq8WFH5a_9",
        "outputId": "5764bffe-d212-4854-941a-67835276eace"
      },
      "source": [
        "a = [ 1 , 2 , 3 ]\n",
        "b = [ 2 , 3 , 4 ]\n",
        "a = np.array([a])\n",
        "b = np.array([b]).T\n",
        "np.dot(a, b)"
      ],
      "execution_count": 34,
      "outputs": [
        {
          "output_type": "execute_result",
          "data": {
            "text/plain": [
              "array([[20]])"
            ]
          },
          "metadata": {
            "tags": []
          },
          "execution_count": 34
        }
      ]
    },
    {
      "cell_type": "code",
      "metadata": {
        "id": "NoVZJD33_niz"
      },
      "source": [
        ""
      ],
      "execution_count": null,
      "outputs": []
    }
  ]
}