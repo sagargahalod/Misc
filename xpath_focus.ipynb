{
  "nbformat": 4,
  "nbformat_minor": 0,
  "metadata": {
    "colab": {
      "name": "xpath focus",
      "provenance": []
    },
    "kernelspec": {
      "name": "python3",
      "display_name": "Python 3"
    },
    "language_info": {
      "name": "python"
    }
  },
  "cells": [
    {
      "cell_type": "code",
      "metadata": {
        "id": "FUIAWY1-SPod"
      },
      "source": [
        "!pip install requests\n",
        "!pip install requests_cache\n",
        "!pip install lxml\n",
        "!pip install pandas"
      ],
      "execution_count": null,
      "outputs": []
    },
    {
      "cell_type": "code",
      "metadata": {
        "id": "Rzt-L1zDSU0N"
      },
      "source": [
        "import requests\n",
        "import requests_cache\n",
        "from lxml import html"
      ],
      "execution_count": null,
      "outputs": []
    },
    {
      "cell_type": "code",
      "metadata": {
        "id": "0WBr13hiSdTj"
      },
      "source": [
        "BASE_URL = 'https://www.nobelprize.org'\n",
        "requests_cache.install_cache('nobel_cache')"
      ],
      "execution_count": null,
      "outputs": []
    },
    {
      "cell_type": "code",
      "metadata": {
        "id": "Kg-D7Fu2S5q_"
      },
      "source": [
        "start_url = BASE_URL+'/nobel_prizes/lists/all/'\n",
        "r = requests.get(start_url)\n",
        "root = html.fromstring(r.text)"
      ],
      "execution_count": null,
      "outputs": []
    },
    {
      "cell_type": "code",
      "metadata": {
        "colab": {
          "base_uri": "https://localhost:8080/"
        },
        "id": "hqY5ieIWTbuA",
        "outputId": "3fd29974-911f-41b9-c584-fb31ffa7ed62"
      },
      "source": [
        "for child in root:\n",
        "  print(child.tag, child.attrib)"
      ],
      "execution_count": null,
      "outputs": [
        {
          "output_type": "stream",
          "text": [
            "head {}\n",
            "body {'class': 'tribe-no-js prize-content'}\n"
          ],
          "name": "stdout"
        }
      ]
    },
    {
      "cell_type": "code",
      "metadata": {
        "colab": {
          "base_uri": "https://localhost:8080/"
        },
        "id": "V6unRemEVjHN",
        "outputId": "8ea3e20b-e85e-413b-a65d-6f68d0cba9cb"
      },
      "source": [
        "for child in root.xpath('body/*'):\n",
        "  print(child.tag, child.attrib)"
      ],
      "execution_count": null,
      "outputs": [
        {
          "output_type": "stream",
          "text": [
            "noscript {}\n",
            "a {'class': 'skip-link screen-reader-text', 'href': '#content'}\n",
            "header {'class': 'site-header', 'role': 'banner', 'itemscope': 'itemscope', 'itemtype': 'http://schema.org/WPHeader'}\n",
            "main {'id': 'content', 'role': 'main', 'class': 'nobel-content'}\n",
            "footer {'class': 'site-footer', 'role': 'contentinfo'}\n",
            "script {}\n",
            "script {}\n",
            "script {'type': 'text/javascript', 'src': 'https://www.nobelprize.org/wp-content/themes/nobelprize/assets/js/frontend/lib/clamp/clamp.min.js?ver=0.4.2', 'id': 'clamp-js'}\n",
            "script {'type': 'text/javascript', 'src': 'https://www.nobelprize.org/wp-content/plugins/nobelprize/assets/js/admin/lib/flickity/flickity.pkgd.js?ver=0.2.0-64f1c5ec2b98e497768cf00965e4d57962533c36', 'id': 'flickity-js'}\n",
            "script {'type': 'text/javascript', 'id': 'nobel-js-extra'}\n",
            "script {'type': 'text/javascript', 'src': 'https://www.nobelprize.org/wp-content/themes/nobelprize/dist/js/frontend.0.4.2.min.js?ver=0.4.2', 'id': 'nobel-js'}\n",
            "script {'type': 'text/javascript', 'src': 'https://www.nobelprize.org/wp-content/themes/nobelprize/assets/js/frontend/lib/bgset/ls.bgset.min.js?ver=0.4.2', 'id': 'lazy-sizes-bg-set-js'}\n",
            "script {'type': 'text/javascript', 'src': 'https://www.nobelprize.org/wp-content/themes/nobelprize/assets/js/frontend/lib/lazysizes/lazysizes.min.js?ver=0.4.2', 'id': 'lazy-sizes-js'}\n",
            "script {'type': 'text/javascript', 'src': 'https://www.nobelprize.org/wp-content/themes/nobelprize/assets/js/frontend/lib/objectfit/ls.object-fit.min.js?ver=0.4.2', 'id': 'lazy-sizes-object-fit-js'}\n",
            "script {'type': 'text/javascript', 'src': 'https://www.nobelprize.org/wp-content/themes/nobelprize/assets/js/frontend/lib/amp/amp/amp.min.js?ver=0.4.2', 'id': 'akamai-livestream-amp-js'}\n",
            "script {'type': 'text/javascript', 'src': 'https://www.nobelprize.org/wp-includes/js/wp-embed.min.js?ver=5.6.3', 'id': 'wp-embed-js'}\n",
            "script {'type': 'text/javascript', 'src': 'https://stats.wp.com/e-202118.js', 'async': 'async', 'defer': 'defer'}\n",
            "script {'type': 'text/javascript'}\n",
            "script {'type': 'text/javascript'}\n"
          ],
          "name": "stdout"
        }
      ]
    },
    {
      "cell_type": "code",
      "metadata": {
        "colab": {
          "base_uri": "https://localhost:8080/"
        },
        "id": "W2vp8hceVoEt",
        "outputId": "99726d4e-39dd-4e24-c206-1b586318977c"
      },
      "source": [
        "for child in root.xpath('body/main/*'):\n",
        "  print(child.tag, child.attrib)"
      ],
      "execution_count": null,
      "outputs": [
        {
          "output_type": "stream",
          "text": [
            "section {'class': 'page-hero -exposed  context-post'}\n",
            "section {'class': 'page-section'}\n"
          ],
          "name": "stdout"
        }
      ]
    },
    {
      "cell_type": "code",
      "metadata": {
        "colab": {
          "base_uri": "https://localhost:8080/"
        },
        "id": "lwqoQFJgVrWM",
        "outputId": "f7268113-a5a2-4290-fa1d-c0e0bffe3cb4"
      },
      "source": [
        "for child in root.xpath('body/main/section[@class=\"page-section\"]/*'):\n",
        "  print(child.tag, child.attrib)"
      ],
      "execution_count": null,
      "outputs": [
        {
          "output_type": "stream",
          "text": [
            "aside {'class': 'page-aside border-top'}\n",
            "section {'class': 'page-content border-top'}\n"
          ],
          "name": "stdout"
        }
      ]
    },
    {
      "cell_type": "code",
      "metadata": {
        "id": "hXBGwZ0thJKe"
      },
      "source": [
        "/html/body/main/section[2]/section/article/div[1]/h3[1]/a"
      ],
      "execution_count": null,
      "outputs": []
    },
    {
      "cell_type": "code",
      "metadata": {
        "colab": {
          "base_uri": "https://localhost:8080/"
        },
        "id": "Xnc4VI7GWBJQ",
        "outputId": "234c23f8-bf40-4fe3-aa11-de2073e2a029"
      },
      "source": [
        "for child in root.xpath('body/main/section[@class=\"page-section\"]/section/article/div[1]/h3[1]/a'):\n",
        "  print(child.tag, child.attrib)\n",
        "  print(child.get('href'))"
      ],
      "execution_count": null,
      "outputs": [
        {
          "output_type": "stream",
          "text": [
            "a {'href': 'https://www.nobelprize.org/prizes/physics/2020/summary'}\n",
            "https://www.nobelprize.org/prizes/physics/2020/summary\n"
          ],
          "name": "stdout"
        }
      ]
    },
    {
      "cell_type": "code",
      "metadata": {
        "id": "7I-Dv9qhWkFM"
      },
      "source": [
        "new_url = child.get('href')\n",
        "r_new = requests.get(new_url)\n",
        "root_new = html.fromstring(r_new.text)"
      ],
      "execution_count": null,
      "outputs": []
    },
    {
      "cell_type": "code",
      "metadata": {
        "colab": {
          "base_uri": "https://localhost:8080/"
        },
        "id": "bQhYw5QZXlbN",
        "outputId": "199732ab-1735-4eb1-a174-38b3d83ca48a"
      },
      "source": [
        "for winner in root_new.xpath('//h3[@itemprop=\"name\"]/a'):\n",
        "  print(winner.text_content().strip(), winner.get('href'))"
      ],
      "execution_count": null,
      "outputs": [
        {
          "output_type": "stream",
          "text": [
            "Roger Penrose https://www.nobelprize.org/prizes/physics/2020/penrose/facts/\n",
            "Reinhard Genzel https://www.nobelprize.org/prizes/physics/2020/genzel/facts/\n",
            "Andrea Ghez https://www.nobelprize.org/prizes/physics/2020/ghez/facts/\n"
          ],
          "name": "stdout"
        }
      ]
    },
    {
      "cell_type": "markdown",
      "metadata": {
        "id": "g8xAUSKybIfq"
      },
      "source": [
        "for reference, see one of the many tutorial on XPATH, like this one: https://www.w3schools.com/xml/xpath_intro.asp"
      ]
    }
  ]
}